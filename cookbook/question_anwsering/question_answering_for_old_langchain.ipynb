{
 "cells": [
  {
   "cell_type": "markdown",
   "id": "5151afed",
   "metadata": {},
   "source": [
    "> 此版本适用于 0.0.292 及以下版本的 Langchain 代码。\n",
    "\n",
    "# 问答\n",
    "\n",
    "## 用例\n",
    "此处展示了如何使用 Langchian + 千帆 SDK 完成对特定文档完成获取、切分、转为向量并存储，而后根据你的提问来从文中获取答案。\n",
    "并且借助 Langsmith 将整个过程可视化展现\n",
    "\n",
    "## 概览\n",
    "把一个非结构化的文档转成问答链涉及以下步骤：\n",
    "1. `Loading`: 首先我们需要加载数据，非结构化的数据可以从多种渠道加载。点击 [LangChain integration hub](https://integrations.langchain.com/) 查看所有 Langchain 支持的 Loader。\n",
    "每个 Loader 都会返回 Langchian 中的 [`Document`](/docs/components/schema/document) 对象。\n",
    "\n",
    "2. `Splitting`: [文本切分器](/docs/modules/data_connection/document_transformers/) 把 `Documents` 切分成特定的大小。\n",
    "\n",
    "3. `Storage`: `Storage` （例如 [vectorstore](/docs/modules/data_connection/vectorstores/)）会将切分的数据储存起来，通常还附带对文本做 [embedding](https://www.pinecone.io/learn/vector-embeddings/) 。\n",
    "\n",
    "4. `Retrieval`: 用于从 `Storage` 中获取切分的数据，用于后面生成答案。\n",
    "\n",
    "5. `Generation`: 使用提示词和获取到的数据，搭配 [LLM](/docs/modules/model_io/models/llms/) 来生成回答。\n",
    "\n",
    "6. `Conversation` (扩展): 添加 [Memory](/docs/modules/memory/) 模块来在你的问答链上实现多轮对话。\n",
    "\n",
    "![flow.jpeg](img/qa_flow.jpeg)\n",
    "\n",
    "接下来我们会演示如何一步步构造我们自己的流水线，并且实现我们自己定制化的功能\n",
    "\n",
    "## Step 0. Prepare\n",
    "\n",
    "为了能够运行我们的 Demo，首先我们需要下载依赖并且设置环境变量"
   ]
  },
  {
   "cell_type": "code",
   "execution_count": 1,
   "id": "1413368a-0670-4af1-8c99-27312ef9e24c",
   "metadata": {},
   "outputs": [
    {
     "name": "stdout",
     "output_type": "stream",
     "text": [
      "Requirement already satisfied: langchain==0.0.292 in /Users/pengyiyang/miniconda3/envs/langchainTest/lib/python3.10/site-packages (0.0.292)\n",
      "Requirement already satisfied: PyYAML>=5.3 in /Users/pengyiyang/miniconda3/envs/langchainTest/lib/python3.10/site-packages (from langchain==0.0.292) (6.0.1)\n",
      "Requirement already satisfied: SQLAlchemy<3,>=1.4 in /Users/pengyiyang/miniconda3/envs/langchainTest/lib/python3.10/site-packages (from langchain==0.0.292) (1.4.49)\n",
      "Requirement already satisfied: aiohttp<4.0.0,>=3.8.3 in /Users/pengyiyang/miniconda3/envs/langchainTest/lib/python3.10/site-packages (from langchain==0.0.292) (3.8.5)\n",
      "Requirement already satisfied: async-timeout<5.0.0,>=4.0.0 in /Users/pengyiyang/miniconda3/envs/langchainTest/lib/python3.10/site-packages (from langchain==0.0.292) (4.0.3)\n",
      "Requirement already satisfied: dataclasses-json<0.6.0,>=0.5.7 in /Users/pengyiyang/miniconda3/envs/langchainTest/lib/python3.10/site-packages (from langchain==0.0.292) (0.5.14)\n",
      "Requirement already satisfied: langsmith<0.1.0,>=0.0.21 in /Users/pengyiyang/miniconda3/envs/langchainTest/lib/python3.10/site-packages (from langchain==0.0.292) (0.0.28)\n",
      "Requirement already satisfied: numexpr<3.0.0,>=2.8.4 in /Users/pengyiyang/miniconda3/envs/langchainTest/lib/python3.10/site-packages (from langchain==0.0.292) (2.8.5)\n",
      "Requirement already satisfied: numpy<2,>=1 in /Users/pengyiyang/miniconda3/envs/langchainTest/lib/python3.10/site-packages (from langchain==0.0.292) (1.25.2)\n",
      "Requirement already satisfied: pydantic<3,>=1 in /Users/pengyiyang/miniconda3/envs/langchainTest/lib/python3.10/site-packages (from langchain==0.0.292) (1.10.12)\n",
      "Requirement already satisfied: requests<3,>=2 in /Users/pengyiyang/miniconda3/envs/langchainTest/lib/python3.10/site-packages (from langchain==0.0.292) (2.31.0)\n",
      "Requirement already satisfied: tenacity<9.0.0,>=8.1.0 in /Users/pengyiyang/miniconda3/envs/langchainTest/lib/python3.10/site-packages (from langchain==0.0.292) (8.2.3)\n",
      "Requirement already satisfied: attrs>=17.3.0 in /Users/pengyiyang/miniconda3/envs/langchainTest/lib/python3.10/site-packages (from aiohttp<4.0.0,>=3.8.3->langchain==0.0.292) (23.1.0)\n",
      "Requirement already satisfied: charset-normalizer<4.0,>=2.0 in /Users/pengyiyang/miniconda3/envs/langchainTest/lib/python3.10/site-packages (from aiohttp<4.0.0,>=3.8.3->langchain==0.0.292) (3.2.0)\n",
      "Requirement already satisfied: multidict<7.0,>=4.5 in /Users/pengyiyang/miniconda3/envs/langchainTest/lib/python3.10/site-packages (from aiohttp<4.0.0,>=3.8.3->langchain==0.0.292) (6.0.4)\n",
      "Requirement already satisfied: yarl<2.0,>=1.0 in /Users/pengyiyang/miniconda3/envs/langchainTest/lib/python3.10/site-packages (from aiohttp<4.0.0,>=3.8.3->langchain==0.0.292) (1.9.2)\n",
      "Requirement already satisfied: frozenlist>=1.1.1 in /Users/pengyiyang/miniconda3/envs/langchainTest/lib/python3.10/site-packages (from aiohttp<4.0.0,>=3.8.3->langchain==0.0.292) (1.4.0)\n",
      "Requirement already satisfied: aiosignal>=1.1.2 in /Users/pengyiyang/miniconda3/envs/langchainTest/lib/python3.10/site-packages (from aiohttp<4.0.0,>=3.8.3->langchain==0.0.292) (1.3.1)\n",
      "Requirement already satisfied: marshmallow<4.0.0,>=3.18.0 in /Users/pengyiyang/miniconda3/envs/langchainTest/lib/python3.10/site-packages (from dataclasses-json<0.6.0,>=0.5.7->langchain==0.0.292) (3.20.1)\n",
      "Requirement already satisfied: typing-inspect<1,>=0.4.0 in /Users/pengyiyang/miniconda3/envs/langchainTest/lib/python3.10/site-packages (from dataclasses-json<0.6.0,>=0.5.7->langchain==0.0.292) (0.9.0)\n",
      "Requirement already satisfied: typing-extensions>=4.2.0 in /Users/pengyiyang/miniconda3/envs/langchainTest/lib/python3.10/site-packages (from pydantic<3,>=1->langchain==0.0.292) (4.7.1)\n",
      "Requirement already satisfied: idna<4,>=2.5 in /Users/pengyiyang/miniconda3/envs/langchainTest/lib/python3.10/site-packages (from requests<3,>=2->langchain==0.0.292) (3.4)\n",
      "Requirement already satisfied: urllib3<3,>=1.21.1 in /Users/pengyiyang/miniconda3/envs/langchainTest/lib/python3.10/site-packages (from requests<3,>=2->langchain==0.0.292) (1.26.16)\n",
      "Requirement already satisfied: certifi>=2017.4.17 in /Users/pengyiyang/miniconda3/envs/langchainTest/lib/python3.10/site-packages (from requests<3,>=2->langchain==0.0.292) (2023.7.22)\n",
      "Requirement already satisfied: packaging>=17.0 in /Users/pengyiyang/miniconda3/envs/langchainTest/lib/python3.10/site-packages (from marshmallow<4.0.0,>=3.18.0->dataclasses-json<0.6.0,>=0.5.7->langchain==0.0.292) (23.1)\n",
      "Requirement already satisfied: mypy-extensions>=0.3.0 in /Users/pengyiyang/miniconda3/envs/langchainTest/lib/python3.10/site-packages (from typing-inspect<1,>=0.4.0->dataclasses-json<0.6.0,>=0.5.7->langchain==0.0.292) (1.0.0)\n",
      "Requirement already satisfied: qianfan==0.0.3 in /Users/pengyiyang/miniconda3/envs/langchainTest/lib/python3.10/site-packages (0.0.3)\n",
      "Requirement already satisfied: erniebot>=0.1.0 in /Users/pengyiyang/miniconda3/envs/langchainTest/lib/python3.10/site-packages (from qianfan==0.0.3) (0.1.0)\n",
      "Requirement already satisfied: aiohttp in /Users/pengyiyang/miniconda3/envs/langchainTest/lib/python3.10/site-packages (from erniebot>=0.1.0->qianfan==0.0.3) (3.8.5)\n",
      "Requirement already satisfied: bce-python-sdk in /Users/pengyiyang/miniconda3/envs/langchainTest/lib/python3.10/site-packages (from erniebot>=0.1.0->qianfan==0.0.3) (0.8.90)\n",
      "Requirement already satisfied: colorlog in /Users/pengyiyang/miniconda3/envs/langchainTest/lib/python3.10/site-packages (from erniebot>=0.1.0->qianfan==0.0.3) (6.7.0)\n",
      "Requirement already satisfied: numpy in /Users/pengyiyang/miniconda3/envs/langchainTest/lib/python3.10/site-packages (from erniebot>=0.1.0->qianfan==0.0.3) (1.25.2)\n",
      "Requirement already satisfied: requests>=2.20 in /Users/pengyiyang/miniconda3/envs/langchainTest/lib/python3.10/site-packages (from erniebot>=0.1.0->qianfan==0.0.3) (2.31.0)\n",
      "Requirement already satisfied: typing-extensions in /Users/pengyiyang/miniconda3/envs/langchainTest/lib/python3.10/site-packages (from erniebot>=0.1.0->qianfan==0.0.3) (4.7.1)\n",
      "Requirement already satisfied: charset-normalizer<4,>=2 in /Users/pengyiyang/miniconda3/envs/langchainTest/lib/python3.10/site-packages (from requests>=2.20->erniebot>=0.1.0->qianfan==0.0.3) (3.2.0)\n",
      "Requirement already satisfied: idna<4,>=2.5 in /Users/pengyiyang/miniconda3/envs/langchainTest/lib/python3.10/site-packages (from requests>=2.20->erniebot>=0.1.0->qianfan==0.0.3) (3.4)\n",
      "Requirement already satisfied: urllib3<3,>=1.21.1 in /Users/pengyiyang/miniconda3/envs/langchainTest/lib/python3.10/site-packages (from requests>=2.20->erniebot>=0.1.0->qianfan==0.0.3) (1.26.16)\n",
      "Requirement already satisfied: certifi>=2017.4.17 in /Users/pengyiyang/miniconda3/envs/langchainTest/lib/python3.10/site-packages (from requests>=2.20->erniebot>=0.1.0->qianfan==0.0.3) (2023.7.22)\n",
      "Requirement already satisfied: attrs>=17.3.0 in /Users/pengyiyang/miniconda3/envs/langchainTest/lib/python3.10/site-packages (from aiohttp->erniebot>=0.1.0->qianfan==0.0.3) (23.1.0)\n",
      "Requirement already satisfied: multidict<7.0,>=4.5 in /Users/pengyiyang/miniconda3/envs/langchainTest/lib/python3.10/site-packages (from aiohttp->erniebot>=0.1.0->qianfan==0.0.3) (6.0.4)\n",
      "Requirement already satisfied: async-timeout<5.0,>=4.0.0a3 in /Users/pengyiyang/miniconda3/envs/langchainTest/lib/python3.10/site-packages (from aiohttp->erniebot>=0.1.0->qianfan==0.0.3) (4.0.3)\n",
      "Requirement already satisfied: yarl<2.0,>=1.0 in /Users/pengyiyang/miniconda3/envs/langchainTest/lib/python3.10/site-packages (from aiohttp->erniebot>=0.1.0->qianfan==0.0.3) (1.9.2)\n",
      "Requirement already satisfied: frozenlist>=1.1.1 in /Users/pengyiyang/miniconda3/envs/langchainTest/lib/python3.10/site-packages (from aiohttp->erniebot>=0.1.0->qianfan==0.0.3) (1.4.0)\n",
      "Requirement already satisfied: aiosignal>=1.1.2 in /Users/pengyiyang/miniconda3/envs/langchainTest/lib/python3.10/site-packages (from aiohttp->erniebot>=0.1.0->qianfan==0.0.3) (1.3.1)\n",
      "Requirement already satisfied: pycryptodome>=3.8.0 in /Users/pengyiyang/miniconda3/envs/langchainTest/lib/python3.10/site-packages (from bce-python-sdk->erniebot>=0.1.0->qianfan==0.0.3) (3.18.0)\n",
      "Requirement already satisfied: future>=0.6.0 in /Users/pengyiyang/miniconda3/envs/langchainTest/lib/python3.10/site-packages (from bce-python-sdk->erniebot>=0.1.0->qianfan==0.0.3) (0.18.3)\n",
      "Requirement already satisfied: six>=1.4.0 in /Users/pengyiyang/miniconda3/envs/langchainTest/lib/python3.10/site-packages (from bce-python-sdk->erniebot>=0.1.0->qianfan==0.0.3) (1.16.0)\n"
     ]
    }
   ],
   "source": [
    "!pip install langchain==0.0.292\n",
    "!pip install qianfan==0.0.3"
   ]
  },
  {
   "cell_type": "code",
   "execution_count": 11,
   "id": "981930ef-a0b4-46f9-b60b-a495117ea38e",
   "metadata": {},
   "outputs": [],
   "source": [
    "import os\n",
    "\n",
    "os.environ['QIANFAN_AK'] = \"your_api_key\"\n",
    "os.environ['QIANFAN_SK'] = \"your_secret_key\"\n",
    "\n",
    "# 此处为 Langsmith 相关功能开关。当且仅当你知道这是做什么用时，可删除注释并设置变量以使用 Langsmith 相关功能\n",
    "# os.environ['LANGCHAIN_TRACING_V2'] = \"true\"\n",
    "# os.environ['LANGCHAIN_ENDPOINT'] = \"https://api.smith.langchain.com\"\n",
    "# os.environ['LANGCHAIN_API_KEY'] = \"your_langchian_api_key\"\n",
    "# os.environ['LANGCHAIN_PROJECT'] = \"your_project_name\"\n",
    "\n",
    "is_chinese = True\n",
    "\n",
    "if is_chinese:\n",
    "    WEB_URL = \"https://zhuanlan.zhihu.com/p/85289282\"\n",
    "    CUSTOM_PROMPT_TEMPLATE = \"\"\"\n",
    "        使用下面的语料来回答本模板最末尾的问题。如果你不知道问题的答案，直接回答 \"我不知道\"，禁止随意编造答案。\n",
    "        为了保证答案尽可能简洁，你的回答必须不超过三句话。\n",
    "        请注意！在每次回答结束之后，你都必须接上 \"感谢你的提问\" 作为结束语\n",
    "        以下是一对问题和答案的样例：\n",
    "            请问：秦始皇的原名是什么\n",
    "            秦始皇原名嬴政。感谢你的提问。\n",
    "        \n",
    "        以下是语料：\n",
    "        \n",
    "        {context}\n",
    "        \n",
    "        请问：{question}\n",
    "    \"\"\"\n",
    "    QUESTION1 = \"明朝的开国皇帝是谁\"\n",
    "    QUESTION2 = \"朱元璋是什么时候建立的明朝\"\n",
    "else:\n",
    "    WEB_URL = \"https://lilianweng.github.io/posts/2023-06-23-agent/\"\n",
    "    CUSTOM_PROMPT_TEMPLATE = \"\"\"\n",
    "        Use the following pieces of context to answer the question at the end. \n",
    "        If you don't know the answer, just say that you don't know, don't try to make up an answer. \n",
    "        Use three sentences maximum and keep the answer as concise as possible. \n",
    "        Always say \"thanks for asking!\" at the end of the answer. \n",
    "        {context}\n",
    "        Question: {question}\n",
    "        Helpful Answer:\n",
    "    \"\"\"\n",
    "    QUESTION1 = \"How do agents use Task decomposition?\"\n",
    "    QUESTION2 = \"What are the various ways to implemet memory to support it?\""
   ]
  },
  {
   "cell_type": "markdown",
   "id": "ba5daed6",
   "metadata": {},
   "source": [
    "## Step 1. Load\n",
    "\n",
    "指定一个 `DocumentLoader` 来把你指定的非结构化数据加载成 `Documents`。一个 `Document` 是文字（即 `page_content`）和与之相关的元数据的结合体"
   ]
  },
  {
   "cell_type": "code",
   "execution_count": 3,
   "id": "cf4d5c72",
   "metadata": {},
   "outputs": [],
   "source": [
    "from langchain.document_loaders import WebBaseLoader\n",
    "\n",
    "loader = WebBaseLoader(WEB_URL)\n",
    "data = loader.load()"
   ]
  },
  {
   "cell_type": "markdown",
   "id": "fd2cc9a7",
   "metadata": {},
   "source": [
    "## Step 2. Split\n",
    "\n",
    "接下来把 `Document` 切分成块，为后续的 embedding 和存入向量数据库做准备。"
   ]
  },
  {
   "cell_type": "code",
   "execution_count": 4,
   "id": "4b11c01d",
   "metadata": {},
   "outputs": [],
   "source": [
    "from langchain.text_splitter import RecursiveCharacterTextSplitter\n",
    "\n",
    "text_splitter = RecursiveCharacterTextSplitter(chunk_size = 384, chunk_overlap = 0, separators=[\"\\n\\n\", \"\\n\", \" \", \"\", \"。\", \"，\"])\n",
    "all_splits = text_splitter.split_documents(data)"
   ]
  },
  {
   "cell_type": "markdown",
   "id": "0a33bd4d",
   "metadata": {},
   "source": [
    "## Step 3. Store\n",
    "\n",
    "为了能够查询文档的片段，我们首先需要把它们存储起来，一种比较常见的做法是对文档的内容做 embedding，然后再将 embedding 的向量连同文档一起存入向量数据库中，此处 embedding 用于索引文档。"
   ]
  },
  {
   "cell_type": "code",
   "execution_count": 5,
   "id": "e9c302c8",
   "metadata": {},
   "outputs": [
    {
     "name": "stderr",
     "output_type": "stream",
     "text": [
      "[INFO] [09-18 13:39:08] logging.py:55 [t:8485264192]: trying to refresh access_token\n",
      "[INFO] [09-18 13:39:08] logging.py:55 [t:8485264192]: sucessfully refresh access_token\n",
      "[INFO] [09-18 13:39:08] logging.py:55 [t:8485264192]: requesting llm api endpoint: /embeddings/embedding-v1\n",
      "[INFO] [09-18 13:39:09] logging.py:55 [t:8485264192]: requesting llm api endpoint: /embeddings/embedding-v1\n"
     ]
    }
   ],
   "source": [
    "from langchain.embeddings import QianfanEmbeddingsEndpoint\n",
    "from langchain.vectorstores import Chroma\n",
    "\n",
    "vectorstore = Chroma.from_documents(documents=all_splits, embedding=QianfanEmbeddingsEndpoint())"
   ]
  },
  {
   "cell_type": "markdown",
   "id": "dc6f22b0",
   "metadata": {},
   "source": [
    "除了非结构化的文档以外，Langchain 还可以从多种数据源获取数据并将它们存储起来。\n",
    "\n",
    "![lc.png](img/qa_data_load.png)\n",
    "\n",
    "## Step 4. Retrieve\n",
    "\n",
    "我们可以使用 [相似度搜索](https://www.pinecone.io/learn/what-is-similarity-search/) 来从切分的文档内获取数据，获取到的数据会作为最终提交给 LLM 的 prompt 的一部分。"
   ]
  },
  {
   "cell_type": "code",
   "execution_count": 6,
   "id": "e2c26b7d",
   "metadata": {},
   "outputs": [
    {
     "name": "stderr",
     "output_type": "stream",
     "text": [
      "[INFO] [09-18 13:39:10] logging.py:55 [t:8485264192]: requesting llm api endpoint: /embeddings/embedding-v1\n"
     ]
    },
    {
     "data": {
      "text/plain": [
       "[('中国古代史-明朝（1368~1644） -', 0.46182550051839333),\n",
       " ('知乎切换模式写文章登录/注册中国古代史-明朝（1368~1644）历史风云看历史，就看历史风云起源元朝末年蒙古统治者残暴，人民受到空前压迫。1351年，元廷征调农民和兵士十几万人治理黄河水患。“治河”和“变钞”导致红巾军起义爆发。郭子兴1351年5月，韩山童、刘福通领导红巾军起义爆发。次年，郭子兴响应，聚众起义，攻占濠州。平民出身的朱元璋受汤和邀请投奔郭子兴，屡立战功，备受郭子兴器重和信任，并娶郭子兴养女马氏为妻。不久，朱元璋离开濠州，发展自己的势力。1355年，刘福通立韩林儿为帝，国号宋，年号龙凤，称小明王，以亳州为都城。郭子兴病故后朱元璋统率郭部，小明王任其为左副元帅。1356年，朱元璋占领集庆路，改名为应天府，并攻下周围战略要地，获取一块立足之地。朱元璋采纳朱升“高筑墙，广积粮，缓称王”的建议。1360年，鄱阳湖水战使陈友谅势力遭到巨大打击。1361',\n",
       "  0.3850624338011377),\n",
       " ('年，小明王封朱元璋为吴国公。1363年，陈友谅败亡。1364年，朱元璋称王，史称“西吴”，与占平江府的东吴王张士诚相区别。1366年小明王、刘福通被廖永忠沉于瓜步江中溺死。1367年，攻下平江，张士诚自尽，后又灭浙江的方国珍。明朝的建立朱元璋1368年正月初四，朱元璋以应天府（南京）为京师，国号大明，年号洪武，朱元璋称帝。后进行北伐和西征，同年以“驱逐胡虏，恢复中华”的口号命徐达、常遇春等将北伐，攻占大都（即北京），元顺帝北逃，彻底结束蒙古在中原的统治，中国再次回归由汉族建立的王朝统治之下。之后朱元璋又相继消灭四川的明升和云南的梁王把匝剌瓦尔密、辽东的纳哈出。又八次派兵深入漠北，大破北元，天下至此初定。洪武之治朱元璋即位后采取轻徭薄赋，恢复社会生产，确立里甲制，配合赋役黄册户籍登记簿册和鱼鳞图册的施行，落实赋税劳役的征收及地方治安的维持。整顿吏治，惩治贪官污',\n",
       "  0.3646482284032496),\n",
       " ('军情，骗取军功封赏，军事打击目标上偏袒努尔哈赤势力，致使明末边患严重，并最终导致清朝入主中国。因此《明史》言：“论者谓：明之亡，实亡于神宗。”在军事方面，万历朝以万历三大征最为功勋卓著，三战皆胜以巩固明朝边疆、守护朝鲜王朝，但也消耗了明朝国库存银。1617年，努尔哈赤以“七大恨”反明，两年后在萨尔浒之战中大败明军，明朝对后金从此转为战略防御。明光宗1620年，明神宗驾崩。其长子朱常洛登基，为明光宗，明光宗仅在位一个月，八月二十九日，又因服用李可灼的红丸，九月一日五更时猝死。明熹宗继位，改元天启。阉党专权明熹宗早期大量启用东林党人，加剧东林党争，明熹宗因此对朝政失去耐心，魏忠贤趁机干预政治，拉拢齐楚浙党，号为阉党。1624年后，阉党把握朝政，魏忠贤擅权跋扈，爪牙遍布全国，并大肆打击东林党，借“梃击案、红丸案、移宫案”为由，唆使其党羽伪造《东林党点将录》上报朝廷',\n",
       "  0.30970618674032735)]"
      ]
     },
     "execution_count": 6,
     "metadata": {},
     "output_type": "execute_result"
    }
   ],
   "source": [
    "docs = vectorstore.similarity_search_with_relevance_scores(QUESTION1)\n",
    "[(document.page_content, score) for document, score in docs]"
   ]
  },
  {
   "cell_type": "markdown",
   "id": "415d6824",
   "metadata": {},
   "source": [
    "## Step 5. Generate\n",
    "\n",
    "接下来我们就可以使用我们的大模型（例如文心一言）和 Langchain 的 RetrievalQA 链，来针对这篇文档进行提问并获取我们想要的回答了。"
   ]
  },
  {
   "cell_type": "code",
   "execution_count": 7,
   "id": "99fa1aec",
   "metadata": {},
   "outputs": [
    {
     "name": "stderr",
     "output_type": "stream",
     "text": [
      "[INFO] [09-18 13:39:10] logging.py:55 [t:8485264192]: requesting llm api endpoint: /embeddings/embedding-v1\n",
      "[INFO] [09-18 13:39:10] logging.py:55 [t:8485264192]: requesting llm api endpoint: /chat/eb-instant\n"
     ]
    },
    {
     "data": {
      "text/plain": [
       "{'query': '明朝的开国皇帝是谁', 'result': '明朝的开国皇帝是朱元璋。感谢你的提问。'}"
      ]
     },
     "execution_count": 7,
     "metadata": {},
     "output_type": "execute_result"
    }
   ],
   "source": [
    "from langchain.chains import RetrievalQA\n",
    "from langchain.chat_models import QianfanChatEndpoint\n",
    "from langchain.prompts import PromptTemplate\n",
    "\n",
    "QA_CHAIN_PROMPT = PromptTemplate.from_template(CUSTOM_PROMPT_TEMPLATE)\n",
    "\n",
    "llm = QianfanChatEndpoint(streaming=True)\n",
    "retriever=vectorstore.as_retriever(search_type=\"similarity_score_threshold\", search_kwargs={'score_threshold': 0.0})\n",
    "                                   \n",
    "qa_chain = RetrievalQA.from_chain_type(llm, retriever=retriever, chain_type_kwargs={\"prompt\": QA_CHAIN_PROMPT})\n",
    "qa_chain({\"query\": QUESTION1})"
   ]
  },
  {
   "cell_type": "markdown",
   "id": "f7d52c84",
   "metadata": {},
   "source": [
    "注意，此处不光可以传入 `ChatModel` ，也可以传入一个 `LLM` 对象到 `RetrievalQA` 中。并且通过代码我们可以看到，用户可以通过传入额外的命名参数字典来自定义我们所需使用的 prompt 模板"
   ]
  },
  {
   "cell_type": "markdown",
   "id": "ff40e8db",
   "metadata": {},
   "source": [
    "#### 返回源文档\n",
    "\n",
    "用于 QA 的知识文档也可以通过指定 `return_source_documents=True` 被包含在返回的字典里"
   ]
  },
  {
   "cell_type": "code",
   "execution_count": 8,
   "id": "60004293",
   "metadata": {},
   "outputs": [
    {
     "name": "stderr",
     "output_type": "stream",
     "text": [
      "[INFO] [09-18 13:39:11] logging.py:55 [t:8485264192]: requesting llm api endpoint: /embeddings/embedding-v1\n",
      "[INFO] [09-18 13:39:12] logging.py:55 [t:8485264192]: requesting llm api endpoint: /chat/eb-instant\n"
     ]
    },
    {
     "data": {
      "text/plain": [
       "[Document(page_content='中国古代史-明朝（1368~1644） -', metadata={'description': '起源元朝末年蒙古统治者残暴，人民受到空前压迫。1351年，元廷征调农民和兵士十几万人治理黄河水患。 “治河”和“变钞”导致红巾军起义爆发。 1351年5月，韩山童、刘福通领导红巾军起义爆发。次年，郭子兴响应，…', 'language': 'zh', 'source': 'https://zhuanlan.zhihu.com/p/85289282', 'title': '中国古代史-明朝（1368~1644） - 知乎'}),\n",
       " Document(page_content='知乎切换模式写文章登录/注册中国古代史-明朝（1368~1644）历史风云看历史，就看历史风云起源元朝末年蒙古统治者残暴，人民受到空前压迫。1351年，元廷征调农民和兵士十几万人治理黄河水患。“治河”和“变钞”导致红巾军起义爆发。郭子兴1351年5月，韩山童、刘福通领导红巾军起义爆发。次年，郭子兴响应，聚众起义，攻占濠州。平民出身的朱元璋受汤和邀请投奔郭子兴，屡立战功，备受郭子兴器重和信任，并娶郭子兴养女马氏为妻。不久，朱元璋离开濠州，发展自己的势力。1355年，刘福通立韩林儿为帝，国号宋，年号龙凤，称小明王，以亳州为都城。郭子兴病故后朱元璋统率郭部，小明王任其为左副元帅。1356年，朱元璋占领集庆路，改名为应天府，并攻下周围战略要地，获取一块立足之地。朱元璋采纳朱升“高筑墙，广积粮，缓称王”的建议。1360年，鄱阳湖水战使陈友谅势力遭到巨大打击。1361', metadata={'description': '起源元朝末年蒙古统治者残暴，人民受到空前压迫。1351年，元廷征调农民和兵士十几万人治理黄河水患。 “治河”和“变钞”导致红巾军起义爆发。 1351年5月，韩山童、刘福通领导红巾军起义爆发。次年，郭子兴响应，…', 'language': 'zh', 'source': 'https://zhuanlan.zhihu.com/p/85289282', 'title': '中国古代史-明朝（1368~1644） - 知乎'}),\n",
       " Document(page_content='年，小明王封朱元璋为吴国公。1363年，陈友谅败亡。1364年，朱元璋称王，史称“西吴”，与占平江府的东吴王张士诚相区别。1366年小明王、刘福通被廖永忠沉于瓜步江中溺死。1367年，攻下平江，张士诚自尽，后又灭浙江的方国珍。明朝的建立朱元璋1368年正月初四，朱元璋以应天府（南京）为京师，国号大明，年号洪武，朱元璋称帝。后进行北伐和西征，同年以“驱逐胡虏，恢复中华”的口号命徐达、常遇春等将北伐，攻占大都（即北京），元顺帝北逃，彻底结束蒙古在中原的统治，中国再次回归由汉族建立的王朝统治之下。之后朱元璋又相继消灭四川的明升和云南的梁王把匝剌瓦尔密、辽东的纳哈出。又八次派兵深入漠北，大破北元，天下至此初定。洪武之治朱元璋即位后采取轻徭薄赋，恢复社会生产，确立里甲制，配合赋役黄册户籍登记簿册和鱼鳞图册的施行，落实赋税劳役的征收及地方治安的维持。整顿吏治，惩治贪官污', metadata={'description': '起源元朝末年蒙古统治者残暴，人民受到空前压迫。1351年，元廷征调农民和兵士十几万人治理黄河水患。 “治河”和“变钞”导致红巾军起义爆发。 1351年5月，韩山童、刘福通领导红巾军起义爆发。次年，郭子兴响应，…', 'language': 'zh', 'source': 'https://zhuanlan.zhihu.com/p/85289282', 'title': '中国古代史-明朝（1368~1644） - 知乎'}),\n",
       " Document(page_content='军情，骗取军功封赏，军事打击目标上偏袒努尔哈赤势力，致使明末边患严重，并最终导致清朝入主中国。因此《明史》言：“论者谓：明之亡，实亡于神宗。”在军事方面，万历朝以万历三大征最为功勋卓著，三战皆胜以巩固明朝边疆、守护朝鲜王朝，但也消耗了明朝国库存银。1617年，努尔哈赤以“七大恨”反明，两年后在萨尔浒之战中大败明军，明朝对后金从此转为战略防御。明光宗1620年，明神宗驾崩。其长子朱常洛登基，为明光宗，明光宗仅在位一个月，八月二十九日，又因服用李可灼的红丸，九月一日五更时猝死。明熹宗继位，改元天启。阉党专权明熹宗早期大量启用东林党人，加剧东林党争，明熹宗因此对朝政失去耐心，魏忠贤趁机干预政治，拉拢齐楚浙党，号为阉党。1624年后，阉党把握朝政，魏忠贤擅权跋扈，爪牙遍布全国，并大肆打击东林党，借“梃击案、红丸案、移宫案”为由，唆使其党羽伪造《东林党点将录》上报朝廷', metadata={'description': '起源元朝末年蒙古统治者残暴，人民受到空前压迫。1351年，元廷征调农民和兵士十几万人治理黄河水患。 “治河”和“变钞”导致红巾军起义爆发。 1351年5月，韩山童、刘福通领导红巾军起义爆发。次年，郭子兴响应，…', 'language': 'zh', 'source': 'https://zhuanlan.zhihu.com/p/85289282', 'title': '中国古代史-明朝（1368~1644） - 知乎'})]"
      ]
     },
     "execution_count": 8,
     "metadata": {},
     "output_type": "execute_result"
    }
   ],
   "source": [
    "from langchain.chains import RetrievalQA\n",
    "\n",
    "qa_chain = RetrievalQA.from_chain_type(llm, retriever=retriever, chain_type_kwargs={\"prompt\": QA_CHAIN_PROMPT}, return_source_documents=True)\n",
    "result = qa_chain({\"query\": QUESTION1})\n",
    "len(result['source_documents'])\n",
    "result['source_documents']"
   ]
  },
  {
   "cell_type": "markdown",
   "id": "4380e478-e8ae-404b-9577-6b15475a6562",
   "metadata": {},
   "source": [
    "## Step 6. Chat\n",
    "\n",
    "我们还可以加入 `Memory` 模块并替换使用 `ConversationalRetrievalChain` 来实现记忆化的对话式查询。"
   ]
  },
  {
   "cell_type": "code",
   "execution_count": 9,
   "id": "6f56838d-29a5-405f-a6ba-7b687ee56268",
   "metadata": {},
   "outputs": [
    {
     "name": "stderr",
     "output_type": "stream",
     "text": [
      "[INFO] [09-18 13:39:13] logging.py:55 [t:8485264192]: requesting llm api endpoint: /chat/eb-instant\n",
      "[INFO] [09-18 13:39:15] logging.py:55 [t:8485264192]: requesting llm api endpoint: /embeddings/embedding-v1\n",
      "[INFO] [09-18 13:39:15] logging.py:55 [t:8485264192]: requesting llm api endpoint: /chat/eb-instant\n",
      "[INFO] [09-18 13:39:16] logging.py:55 [t:8485264192]: requesting llm api endpoint: /chat/eb-instant\n"
     ]
    },
    {
     "data": {
      "text/plain": [
       "{'question': '明朝的开国皇帝是谁',\n",
       " 'chat_history': [SystemMessage(content='', additional_kwargs={})],\n",
       " 'answer': '明朝的开国皇帝是朱元璋。感谢你的提问。'}"
      ]
     },
     "execution_count": 9,
     "metadata": {},
     "output_type": "execute_result"
    }
   ],
   "source": [
    "from langchain.memory import ConversationSummaryMemory\n",
    "from langchain.chains import ConversationalRetrievalChain\n",
    "\n",
    "memory = ConversationSummaryMemory(llm=llm,memory_key=\"chat_history\",return_messages=True)\n",
    "qa = ConversationalRetrievalChain.from_llm(llm, retriever=retriever, memory=memory, combine_docs_chain_kwargs={\"prompt\": QA_CHAIN_PROMPT})\n",
    "qa(QUESTION1)"
   ]
  },
  {
   "cell_type": "code",
   "execution_count": 10,
   "id": "a0d9d803-c183-49c8-97b0-1d5fed7ac52a",
   "metadata": {},
   "outputs": [
    {
     "name": "stderr",
     "output_type": "stream",
     "text": [
      "[INFO] [09-18 13:39:17] logging.py:55 [t:8485264192]: requesting llm api endpoint: /chat/eb-instant\n",
      "[INFO] [09-18 13:39:18] logging.py:55 [t:8485264192]: requesting llm api endpoint: /embeddings/embedding-v1\n",
      "[INFO] [09-18 13:39:19] logging.py:55 [t:8485264192]: requesting llm api endpoint: /chat/eb-instant\n",
      "[INFO] [09-18 13:39:21] logging.py:55 [t:8485264192]: requesting llm api endpoint: /chat/eb-instant\n"
     ]
    },
    {
     "data": {
      "text/plain": [
       "{'question': '朱元璋是什么时候建立的明朝',\n",
       " 'chat_history': [SystemMessage(content='明朝的开国皇帝是朱元璋。感谢你的提问。', additional_kwargs={})],\n",
       " 'answer': '1368年正月初四，朱元璋以应天府（南京）为京师，国号大明，年号洪武，朱元璋称帝。'}"
      ]
     },
     "execution_count": 10,
     "metadata": {},
     "output_type": "execute_result"
    }
   ],
   "source": [
    "qa(QUESTION2)"
   ]
  }
 ],
 "metadata": {
  "kernelspec": {
   "display_name": "Python 3 (ipykernel)",
   "language": "python",
   "name": "python3"
  },
  "language_info": {
   "codemirror_mode": {
    "name": "ipython",
    "version": 3
   },
   "file_extension": ".py",
   "mimetype": "text/x-python",
   "name": "python",
   "nbconvert_exporter": "python",
   "pygments_lexer": "ipython3",
   "version": "3.10.12"
  }
 },
 "nbformat": 4,
 "nbformat_minor": 5
}
